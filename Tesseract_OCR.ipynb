{
  "nbformat": 4,
  "nbformat_minor": 0,
  "metadata": {
    "colab": {
      "name": "Tesseract OCR.ipynb",
      "provenance": [],
      "authorship_tag": "ABX9TyP2Yr09vmrzXPs/6r/3sQHW",
      "include_colab_link": true
    },
    "kernelspec": {
      "name": "python3",
      "display_name": "Python 3"
    },
    "language_info": {
      "name": "python"
    }
  },
  "cells": [
    {
      "cell_type": "markdown",
      "metadata": {
        "id": "view-in-github",
        "colab_type": "text"
      },
      "source": [
        "<a href=\"https://colab.research.google.com/github/aman9394/aman9394/blob/main/Tesseract_OCR.ipynb\" target=\"_parent\"><img src=\"https://colab.research.google.com/assets/colab-badge.svg\" alt=\"Open In Colab\"/></a>"
      ]
    },
    {
      "cell_type": "code",
      "metadata": {
        "id": "CCW6VSX9IP-y"
      },
      "source": [
        "!sudo apt install tesseract-ocr\n",
        "!pip install pytesseract"
      ],
      "execution_count": null,
      "outputs": []
    },
    {
      "cell_type": "code",
      "metadata": {
        "colab": {
          "base_uri": "https://localhost:8080/"
        },
        "id": "XTGtph0DI9jT",
        "outputId": "7cb56b43-a625-46fd-9863-f3809c22b073"
      },
      "source": [
        "!pip install dateparser"
      ],
      "execution_count": 3,
      "outputs": [
        {
          "output_type": "stream",
          "text": [
            "Collecting dateparser\n",
            "\u001b[?25l  Downloading https://files.pythonhosted.org/packages/78/c4/b5ddc3eeac974d85055d88c1e6b62cc492fc1a93dbe3b66a45a756a7b807/dateparser-1.0.0-py2.py3-none-any.whl (279kB)\n",
            "\r\u001b[K     |█▏                              | 10kB 12.0MB/s eta 0:00:01\r\u001b[K     |██▍                             | 20kB 10.8MB/s eta 0:00:01\r\u001b[K     |███▌                            | 30kB 8.4MB/s eta 0:00:01\r\u001b[K     |████▊                           | 40kB 7.2MB/s eta 0:00:01\r\u001b[K     |█████▉                          | 51kB 4.7MB/s eta 0:00:01\r\u001b[K     |███████                         | 61kB 4.4MB/s eta 0:00:01\r\u001b[K     |████████▏                       | 71kB 4.9MB/s eta 0:00:01\r\u001b[K     |█████████▍                      | 81kB 4.9MB/s eta 0:00:01\r\u001b[K     |██████████▌                     | 92kB 5.2MB/s eta 0:00:01\r\u001b[K     |███████████▊                    | 102kB 5.2MB/s eta 0:00:01\r\u001b[K     |████████████▉                   | 112kB 5.2MB/s eta 0:00:01\r\u001b[K     |██████████████                  | 122kB 5.2MB/s eta 0:00:01\r\u001b[K     |███████████████▏                | 133kB 5.2MB/s eta 0:00:01\r\u001b[K     |████████████████▍               | 143kB 5.2MB/s eta 0:00:01\r\u001b[K     |█████████████████▋              | 153kB 5.2MB/s eta 0:00:01\r\u001b[K     |██████████████████▊             | 163kB 5.2MB/s eta 0:00:01\r\u001b[K     |████████████████████            | 174kB 5.2MB/s eta 0:00:01\r\u001b[K     |█████████████████████           | 184kB 5.2MB/s eta 0:00:01\r\u001b[K     |██████████████████████▎         | 194kB 5.2MB/s eta 0:00:01\r\u001b[K     |███████████████████████▍        | 204kB 5.2MB/s eta 0:00:01\r\u001b[K     |████████████████████████▋       | 215kB 5.2MB/s eta 0:00:01\r\u001b[K     |█████████████████████████▊      | 225kB 5.2MB/s eta 0:00:01\r\u001b[K     |███████████████████████████     | 235kB 5.2MB/s eta 0:00:01\r\u001b[K     |████████████████████████████    | 245kB 5.2MB/s eta 0:00:01\r\u001b[K     |█████████████████████████████▎  | 256kB 5.2MB/s eta 0:00:01\r\u001b[K     |██████████████████████████████▍ | 266kB 5.2MB/s eta 0:00:01\r\u001b[K     |███████████████████████████████▋| 276kB 5.2MB/s eta 0:00:01\r\u001b[K     |████████████████████████████████| 286kB 5.2MB/s \n",
            "\u001b[?25hRequirement already satisfied: regex!=2019.02.19 in /usr/local/lib/python3.7/dist-packages (from dateparser) (2019.12.20)\n",
            "Requirement already satisfied: python-dateutil in /usr/local/lib/python3.7/dist-packages (from dateparser) (2.8.1)\n",
            "Requirement already satisfied: tzlocal in /usr/local/lib/python3.7/dist-packages (from dateparser) (1.5.1)\n",
            "Requirement already satisfied: pytz in /usr/local/lib/python3.7/dist-packages (from dateparser) (2018.9)\n",
            "Requirement already satisfied: six>=1.5 in /usr/local/lib/python3.7/dist-packages (from python-dateutil->dateparser) (1.15.0)\n",
            "Installing collected packages: dateparser\n",
            "Successfully installed dateparser-1.0.0\n"
          ],
          "name": "stdout"
        }
      ]
    },
    {
      "cell_type": "code",
      "metadata": {
        "colab": {
          "base_uri": "https://localhost:8080/"
        },
        "id": "b_Tz0u3rJDmf",
        "outputId": "a5b6c02d-0a49-44c0-87e4-17c1c0b5cd5f"
      },
      "source": [
        "!pip install pdf2image"
      ],
      "execution_count": 5,
      "outputs": [
        {
          "output_type": "stream",
          "text": [
            "Collecting pdf2image\n",
            "  Downloading https://files.pythonhosted.org/packages/03/62/089030fd16ab3e5c245315d63c80b29250b8f9e4579b5a09306eb7e7539c/pdf2image-1.14.0-py3-none-any.whl\n",
            "Requirement already satisfied: pillow in /usr/local/lib/python3.7/dist-packages (from pdf2image) (7.1.2)\n",
            "Installing collected packages: pdf2image\n",
            "Successfully installed pdf2image-1.14.0\n"
          ],
          "name": "stdout"
        }
      ]
    },
    {
      "cell_type": "code",
      "metadata": {
        "id": "nF3a5aqHIb0N"
      },
      "source": [
        "import cv2\n",
        "import pytesseract\n",
        "from pytesseract import Output\n",
        "import re\n",
        "from pprint import pprint\n",
        "from dateparser.search import search_dates\n",
        "from pdf2image import convert_from_path\n",
        "import time"
      ],
      "execution_count": 12,
      "outputs": []
    },
    {
      "cell_type": "code",
      "metadata": {
        "id": "b7P9g8NBIs7l"
      },
      "source": [
        "def detect_page_layout(path):\n",
        "    # Image read\n",
        "    img_ = cv2.imread(path)\n",
        "    gray = cv2.cvtColor(img_, cv2.COLOR_BGR2GRAY)\n",
        "    thresh = cv2.threshold(gray, 127, 255, cv2.THRESH_BINARY + cv2.THRESH_OTSU)[1]\n",
        "\n",
        "    # Config for tesseract\n",
        "    custom_config = r'-l eng --oem 1 --psm 1 textord_tabfind_show_blocks 1 '\n",
        "    # Tesseract to extract data from image\n",
        "    d = pytesseract.image_to_data(thresh, config=custom_config, output_type=Output.DICT)\n",
        "\n",
        "    # Init variables\n",
        "    prev_block = 0\n",
        "    prev_line = 0\n",
        "    prev_line_index = 0\n",
        "    prev_word_index = 0\n",
        "    \n",
        "    top_left_point = {\n",
        "        \"x\": 0,\n",
        "        \"y\": 0\n",
        "    }\n",
        "    top_right_point = {\n",
        "        \"x\": 0,\n",
        "        \"y\": 0\n",
        "    }\n",
        "    bottom_left_point = {\n",
        "        \"x\": 0,\n",
        "        \"y\": 0\n",
        "    }\n",
        "    highest_right_x = 0\n",
        "    first_line_drawn = False\n",
        "    outputDict = []\n",
        "    block = \"\"\n",
        "    \n",
        "\n",
        "    # Iterate over every word identified\n",
        "    n_boxes = len(d['text'])\n",
        "    for i in range(n_boxes):\n",
        "        print(d[\"text\"][i])\n",
        "        \n",
        "        # If previous block is not set. To be executed only first time\n",
        "        if prev_block == 0 :\n",
        "            prev_block = d['block_num'][i]\n",
        "            top_left_point = {\n",
        "                \"x\": d['left'][i],\n",
        "                \"y\": d['top'][i],\n",
        "                \"w\": d['width'][i],\n",
        "                \"h\": d['height'][i],\n",
        "            }\n",
        "        \n",
        "        # check if block has changed\n",
        "        if prev_block != d[\"block_num\"][i]:\n",
        "            prev_block = d[\"block_num\"][i]\n",
        "            \n",
        "            if not first_line_drawn :\n",
        "                if prev_word_index :\n",
        "                    top_right_point = {\n",
        "                        \"x\": d['left'][prev_word_index],\n",
        "                        \"y\": d['top'][prev_word_index],\n",
        "                        \"w\": d['width'][prev_word_index],\n",
        "                        \"h\": d['height'][prev_word_index],\n",
        "                    }\n",
        "                    first_line_drawn = True\n",
        "                    # Drawing top line from left to right\n",
        "                    img_ = cv2.line(img_, (top_left_point[\"x\"], top_left_point[\"y\"]), (top_right_point[\"x\"] + top_right_point[\"w\"] , top_right_point[\"y\"]), highlightColor, 2)\n",
        "                    # Drawing left line (in case of single line block) from left to bottom\n",
        "                    img_ = cv2.line(img_, (top_left_point[\"x\"], top_left_point[\"y\"]), (top_left_point[\"x\"], top_left_point[\"y\"] + top_left_point['h'] ), highlightColor, 2)\n",
        "                    bottom_left_point = {\n",
        "                        \"x\": d['left'][first_word_index],\n",
        "                        \"y\": d['top'][first_word_index],\n",
        "                        \"w\": d['width'][first_word_index],\n",
        "                        \"h\": d['height'][first_word_index],\n",
        "                    }\n",
        "                    bottom_right_point = {\n",
        "                        \"x\": d['left'][prev_word_index],\n",
        "                        \"y\": d['top'][prev_word_index],\n",
        "                        \"w\": d['width'][prev_word_index],\n",
        "                        \"h\": d['height'][prev_word_index],\n",
        "                    }\n",
        "                    \n",
        "                    # Drawing bottom line from left to right\n",
        "                    img_ = cv2.line(img_, (bottom_left_point[\"x\"], bottom_left_point[\"y\"] + bottom_left_point[\"h\"] ), (bottom_right_point[\"x\"] + bottom_right_point[\"w\"], bottom_right_point[\"y\"] + bottom_right_point[\"h\"] ), highlightColor, 2)\n",
        "                    \n",
        "                    outputDict.append({\n",
        "                        \"block_text\": block,\n",
        "                        \"coordinates\": [\n",
        "                            {\n",
        "                                \"x\": top_left_point[\"x\"],\n",
        "                                \"y\": top_left_point[\"y\"]\n",
        "                            },\n",
        "                            {\n",
        "                                \"x\": bottom_right_point[\"x\"] + bottom_right_point[\"w\"],\n",
        "                                \"y\": bottom_right_point[\"y\"] + bottom_right_point[\"h\"]\n",
        "                            }\n",
        "                        ]\n",
        "                    })\n",
        "            else:\n",
        "                bottom_left_point = {\n",
        "                    \"x\": d['left'][first_word_index],\n",
        "                    \"y\": d['top'][first_word_index],\n",
        "                    \"w\": d['width'][first_word_index],\n",
        "                    \"h\": d['height'][first_word_index],\n",
        "                }\n",
        "\n",
        "                # Drawing left line from left to bottom of block\n",
        "                img_ = cv2.line(img_, (top_left_point[\"x\"], top_left_point[\"y\"]), (top_left_point[\"x\"], bottom_left_point[\"y\"] + bottom_left_point[\"h\"] ), highlightColor, 2)\n",
        "\n",
        "                if highest_right_x > d['left'][prev_word_index] & False:\n",
        "                    bottom_right_point = {\n",
        "                        \"x\": highest_right_x,\n",
        "                        \"y\": d['top'][prev_word_index],\n",
        "                        \"w\": d['width'][prev_word_index],\n",
        "                        \"h\": d['height'][prev_word_index],\n",
        "                    }\n",
        "                else :\n",
        "                    bottom_right_point = {\n",
        "                        \"x\": d['left'][prev_word_index],\n",
        "                        \"y\": d['top'][prev_word_index],\n",
        "                        \"w\": d['width'][prev_word_index],\n",
        "                        \"h\": d['height'][prev_word_index],\n",
        "                    }\n",
        "                \n",
        "                \n",
        "                if (highest_right_x > top_right_point[\"x\"]) :\n",
        "                    # Drawing top line from left to right\n",
        "                    img_ = cv2.line(img_, (top_left_point[\"x\"], top_left_point[\"y\"]), (highest_right_x, top_right_point[\"y\"]), highlightColor, 2)\n",
        "                    # Drawing bottom line from left to right\n",
        "                    img_ = cv2.line(img_, (top_left_point[\"x\"], bottom_left_point[\"y\"] + bottom_left_point[\"h\"] ), (highest_right_x, bottom_right_point[\"y\"] + bottom_right_point[\"h\"] ), highlightColor, 2)\n",
        "                    # Drawing right line from right top to bottom right\n",
        "                    img_ = cv2.line(img_, (highest_right_x, top_right_point[\"y\"] ), (highest_right_x, bottom_right_point[\"y\"] + bottom_right_point[\"h\"] ), highlightColor, 2)\n",
        "                    outputDict.append({\n",
        "                        \"block_text\": block,\n",
        "                        \"coordinates\": [\n",
        "                            {\n",
        "                                \"x\": top_left_point[\"x\"],\n",
        "                                \"y\": top_left_point[\"y\"]\n",
        "                            },\n",
        "                            {\n",
        "                                \"x\": highest_right_x,\n",
        "                                \"y\": bottom_right_point[\"y\"] + bottom_right_point[\"h\"]\n",
        "                            }\n",
        "                        ]\n",
        "                    })   \n",
        "                else:\n",
        "                    # Drawing bottom line from left to right\n",
        "                    img_ = cv2.line(img_, (top_left_point[\"x\"], bottom_left_point[\"y\"] + bottom_left_point[\"h\"] ), (top_right_point[\"x\"] + top_right_point[\"w\"], bottom_right_point[\"y\"] + bottom_right_point[\"h\"] ), highlightColor, 2)\n",
        "                    # Drawing right line from right top to bottom right\n",
        "                    img_ = cv2.line(img_, (top_right_point[\"x\"] + top_right_point[\"w\"], top_right_point[\"y\"] ), (top_right_point[\"x\"] + top_right_point[\"w\"], bottom_right_point[\"y\"] + bottom_right_point[\"h\"] ), highlightColor, 2)\n",
        "                    outputDict.append({\n",
        "                        \"block_text\": block,\n",
        "                        \"coordinates\": [\n",
        "                            {\n",
        "                                \"x\": top_left_point[\"x\"],\n",
        "                                \"y\": top_left_point[\"y\"]\n",
        "                            },\n",
        "                            {\n",
        "                                \"x\": top_right_point[\"x\"] + top_right_point[\"w\"],\n",
        "                                \"y\": bottom_right_point[\"y\"] + bottom_right_point[\"h\"]\n",
        "                            }\n",
        "                        ]\n",
        "                    })  \n",
        "\n",
        "            block = \"\"          \n",
        "            first_line_drawn = False\n",
        "            first_word_index = i\n",
        "            prev_word_index = False\n",
        "            highest_right_x = 0\n",
        "            top_left_point = {\n",
        "                \"x\": d['left'][i],\n",
        "                \"y\": d['top'][i],\n",
        "                \"w\": d['width'][i],\n",
        "                \"h\": d['height'][i],\n",
        "            }\n",
        "\n",
        "        # check when line changes\n",
        "        if prev_line != d[\"line_num\"][i] :\n",
        "            block += \"\\n\"\n",
        "            prev_line = d[\"line_num\"][i]\n",
        "            first_word_index = i\n",
        "\n",
        "            if (prev_word_index):\n",
        "                if not first_line_drawn :\n",
        "                    top_right_point = {\n",
        "                        \"x\": d['left'][prev_word_index],\n",
        "                        \"y\": d['top'][prev_word_index],\n",
        "                        \"w\": d['width'][prev_word_index],\n",
        "                        \"h\": d['height'][prev_word_index]\n",
        "                    }\n",
        "                        \n",
        "                    first_line_drawn = True\n",
        "                    # Drawing top line from left to right\n",
        "                    highlightColor = ( 0, 0, 255 )\n",
        "                    img_ = cv2.line(img_, (top_left_point[\"x\"], top_left_point[\"y\"]), (top_right_point[\"x\"] + + d['width'][prev_word_index], top_right_point[\"y\"]), highlightColor, 2)\n",
        "        # the highest right point in a given block\n",
        "        if highest_right_x < d['left'][i] :\n",
        "            highest_right_x = d['left'][i] +  d['width'][i] \n",
        "        prev_word_index = i\n",
        "        block += d[\"text\"][i] + \" \"\n",
        "\n",
        "    cv2.imwrite('img.jpeg', img_)\n",
        "    return outputDict\n",
        "    \n"
      ],
      "execution_count": 15,
      "outputs": []
    },
    {
      "cell_type": "code",
      "metadata": {
        "id": "OezsywzvJOTB"
      },
      "source": [
        "text = detect_page_layout('./sample_data/input.jpg')"
      ],
      "execution_count": null,
      "outputs": []
    },
    {
      "cell_type": "code",
      "metadata": {
        "id": "_c2BRyncUmpQ"
      },
      "source": [
        "img_ = cv2.imread('./sample_data/input.jpg')\n",
        "gray = cv2.cvtColor(img_, cv2.COLOR_BGR2GRAY)\n",
        "thresh = cv2.threshold(gray, 127, 255, cv2.THRESH_BINARY + cv2.THRESH_OTSU)[1]"
      ],
      "execution_count": 17,
      "outputs": []
    },
    {
      "cell_type": "code",
      "metadata": {
        "id": "uxGIeTDlU3NO"
      },
      "source": [
        "d = pytesseract.image_to_string(img_)"
      ],
      "execution_count": 39,
      "outputs": []
    },
    {
      "cell_type": "code",
      "metadata": {
        "colab": {
          "base_uri": "https://localhost:8080/",
          "height": 137
        },
        "id": "QOp1zyIAU5uc",
        "outputId": "65c2de22-cc86-4a29-de1f-94b9e096fe22"
      },
      "source": [
        "d"
      ],
      "execution_count": 40,
      "outputs": [
        {
          "output_type": "execute_result",
          "data": {
            "application/vnd.google.colaboratory.intrinsic+json": {
              "type": "string"
            },
            "text/plain": [
              "'Squarepants, Spongebob 11/4/2020 Office Visit - Henry Ford Health System\\n\\nSpongebob Squarepants\\n\\nEncounter Summary, generated on Dec. 30, 2020\\n\\nPrintout Information\\nDocument Contents Document Received Date Document Source Organization\\n\\n \\n\\nOffice Visit Dec. 30, 2020 Henry Ford Health System\\n\\nPatient Demographics -7y.0. Male; born Dec. 30, 2013\\n\\nPatient Address © Communication Language Race/ Ethnicity Marital Status\\nEnglish Unknown/ Single\\n(Preferred) Unknown\\n\\nReason for Visit\\nReason Comments\\nEstablish Care\\n\\n \\n\\nEncounter Details\\n\\nDate Type Department Care Team Description\\n11/04/2020 Office Visit Sunshine Kremer MD White, Sunshine FNP Encounter for routine\\nPLLC 2195 SPRING 2195 SPRING ARBOR RD child health examination\\nARBOR RDJACKSON, M_ JACKSON, MI 49203- without abnormal\\n49203-2748 2748 findings (Primary Dx);\\n517-539-6111 517-539-6111 Dietary counseling;\\n517-539-6110 (Fax) Exercise counseling;\\n\\nBMI (body mass index),\\npediatric, 5% to less than\\n85% for age\\n\\nsocial History -documented as of this encounter\\n\\nTobacco Use ey Types Packs/Day Years Used Date\\nNever Smoker\\n\\nSmokeless Tobacco:\\n\\nNever Used\\n\\nTobacco Cessation: Counseling Given: Yes\\n\\nSex Assigned at Birth Date Recorded\\nNot on file\\n\\n \\n\\nPage lof9\\n\\x0c'"
            ]
          },
          "metadata": {
            "tags": []
          },
          "execution_count": 40
        }
      ]
    },
    {
      "cell_type": "code",
      "metadata": {
        "id": "XyudZudqVZNz"
      },
      "source": [
        "def detect_social_history(data, path):\n",
        "    # print(data)\n",
        "    highlightColor = ( 0, 0, 255 )\n",
        "    for block in data:\n",
        "        block_text = block[\"block_text\"].lower()\n",
        "        Result = re.findall(\"social history.*\",block_text)\n",
        "        \n",
        "        if (len(Result)):\n",
        "            img_ = cv2.imread(path)\n",
        "            img_ = cv2.rectangle(img_, (block[\"coordinates\"][0][\"x\"], block[\"coordinates\"][0][\"y\"]), (block[\"coordinates\"][1][\"x\"], block[\"coordinates\"][1][\"y\"]), highlightColor, 10)\n",
        "            cv2.imwrite(\"output/output\" + str(time.time()) + \".jpg\", img_)"
      ],
      "execution_count": 36,
      "outputs": []
    },
    {
      "cell_type": "code",
      "metadata": {
        "id": "UW2WiPJ-XXXY"
      },
      "source": [
        "detect_social_history(text, './sample_data/input.jpg')"
      ],
      "execution_count": 37,
      "outputs": []
    },
    {
      "cell_type": "code",
      "metadata": {
        "colab": {
          "base_uri": "https://localhost:8080/"
        },
        "id": "ogjcvA1CkhxR",
        "outputId": "202b2076-6fa3-4ae6-a79b-26ad30d47856"
      },
      "source": [
        "text"
      ],
      "execution_count": 38,
      "outputs": [
        {
          "output_type": "execute_result",
          "data": {
            "text/plain": [
              "[{'block_text': '   \\n Squarepants, Spongebob 11/4/2020 Office Visit - Henry Ford Health System ',\n",
              "  'coordinates': [{'x': 516, 'y': 43}, {'x': 5025, 'y': 153}]},\n",
              " {'block_text': '\\n  \\n Spongebob Squarepants ',\n",
              "  'coordinates': [{'x': 610, 'y': 666}, {'x': 1867, 'y': 799}]},\n",
              " {'block_text': '\\n  \\n Encounter Summary, generated on Dec. 30, 2020 ',\n",
              "  'coordinates': [{'x': 606, 'y': 829}, {'x': 2133, 'y': 888}]},\n",
              " {'block_text': '\\n  \\n Printout Information \\n Document Contents Document Received Date Document Source Organization ',\n",
              "  'coordinates': [{'x': 708, 'y': 1046}, {'x': 4083, 'y': 1318}]},\n",
              " {'block_text': '\\n  \\n   ',\n",
              "  'coordinates': [{'x': 518, 'y': 1319}, {'x': 4970, 'y': 1334}]},\n",
              " {'block_text': '\\n  \\n Office Visit Dec. 30, 2020 Henry Ford Health System ',\n",
              "  'coordinates': [{'x': 703, 'y': 1361}, {'x': 3871, 'y': 1454}]},\n",
              " {'block_text': '\\n  \\n Patient Demographics -7y.0. Male; born Dec. 30, 2013 ',\n",
              "  'coordinates': [{'x': 708, 'y': 1595}, {'x': 3302, 'y': 1699}]},\n",
              " {'block_text': '\\n  \\n Patient Address © Communication Language Race/ Ethnicity Marital Status \\n English Unknown/ Single \\n (Preferred) Unknown ',\n",
              "  'coordinates': [{'x': 715, 'y': 1766}, {'x': 4798, 'y': 2100}]},\n",
              " {'block_text': '\\n  \\n Reason for Visit \\n Reason Comments \\n Establish Care ',\n",
              "  'coordinates': [{'x': 708, 'y': 2492}, {'x': 2225, 'y': 2882}]},\n",
              " {'block_text': '\\n  \\n Encounter Details ',\n",
              "  'coordinates': [{'x': 708, 'y': 3042}, {'x': 1697, 'y': 3147}]},\n",
              " {'block_text': '\\n  \\n Date Type Department Care Team Description \\n 11/04/2020 Office Visit Sunshine Kremer MD White, Sunshine FNP Encounter for routine \\n PLLC 2195 SPRING 2195 SPRING ARBOR RD child health examination \\n ARBOR RDJACKSON, M_ JACKSON, MI 49203- without abnormal \\n 49203-2748 2748 findings (Primary Dx); \\n 517-539-6111 517-539-6111 Dietary counseling; \\n 517-539-6110 (Fax) Exercise counseling; ',\n",
              "  'coordinates': [{'x': 712, 'y': 3220}, {'x': 4907, 'y': 4032}]},\n",
              " {'block_text': '\\n  \\n BMI (body mass index), \\n pediatric, 5% to less than \\n 85% for age ',\n",
              "  'coordinates': [{'x': 3954, 'y': 4056}, {'x': 4926, 'y': 4385}]},\n",
              " {'block_text': '\\n  \\n social History -documented as of this encounter \\n \\n Tobacco Use Types Packs/Day Years Used Date \\n Never Smoker \\n \\n Smokeless Tobacco: ',\n",
              "  'coordinates': [{'x': 697, 'y': 4523}, {'x': 4106, 'y': 5052}]},\n",
              " {'block_text': '\\n  \\n Never Used ',\n",
              "  'coordinates': [{'x': 712, 'y': 5094}, {'x': 1140, 'y': 5168}]},\n",
              " {'block_text': '\\n  \\n Tobacco Cessation: Counseling Given: Yes ',\n",
              "  'coordinates': [{'x': 697, 'y': 5343}, {'x': 2341, 'y': 5418}]},\n",
              " {'block_text': '\\n  \\n Sex Assigned at Birth Date Recorded \\n Not on file ',\n",
              "  'coordinates': [{'x': 703, 'y': 5591}, {'x': 2349, 'y': 5804}]}]"
            ]
          },
          "metadata": {
            "tags": []
          },
          "execution_count": 38
        }
      ]
    },
    {
      "cell_type": "code",
      "metadata": {
        "id": "JDJxr3aCkinK"
      },
      "source": [
        ""
      ],
      "execution_count": null,
      "outputs": []
    }
  ]
}